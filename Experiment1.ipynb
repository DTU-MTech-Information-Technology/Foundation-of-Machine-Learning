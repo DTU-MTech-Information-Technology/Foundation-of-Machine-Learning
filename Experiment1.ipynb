{
 "cells": [
  {
   "cell_type": "markdown",
   "metadata": {},
   "source": [
    "# Fundamentals of Machine Learning Lab\n",
    "\n",
    "- M. Tech 1st Year\n",
    "- Name: Kinjal Raykarmakar\n",
    "- Roll No.: 24/IT/19"
   ]
  },
  {
   "cell_type": "markdown",
   "metadata": {},
   "source": [
    "## Experiment 1\n",
    "\n",
    "**OBJECTIVE:** To understand the basics of Python by the following programs"
   ]
  },
  {
   "cell_type": "markdown",
   "metadata": {},
   "source": [
    "---\n",
    "(i) Write a program to add two numbers to illustrate the use of print statement."
   ]
  },
  {
   "cell_type": "code",
   "execution_count": 5,
   "metadata": {},
   "outputs": [
    {
     "name": "stdout",
     "output_type": "stream",
     "text": [
      "The sum of 21 and 22 is 43\n"
     ]
    }
   ],
   "source": [
    "# two numbers\n",
    "a = 21\n",
    "b = 22\n",
    "\n",
    "# sum\n",
    "c = a + b\n",
    "print(f\"The sum of {a} and {b} is {c}\")"
   ]
  },
  {
   "cell_type": "markdown",
   "metadata": {},
   "source": [
    "---\n",
    "(ii) Write a program to illustrate the use of conditional statements by checking if the input number is odd or even."
   ]
  },
  {
   "cell_type": "code",
   "execution_count": 4,
   "metadata": {},
   "outputs": [
    {
     "name": "stdout",
     "output_type": "stream",
     "text": [
      "3 is an odd number\n"
     ]
    }
   ],
   "source": [
    "# input\n",
    "num = int(input(\"Enter a number: \"))\n",
    "\n",
    "# modulo 2 for even checking\n",
    "if num%2 == 0:\n",
    "    print(f\"{num} is an even number\")\n",
    "else:\n",
    "    print(f\"{num} is an odd number\")"
   ]
  },
  {
   "cell_type": "markdown",
   "metadata": {},
   "source": [
    "---\n",
    "(iii) Write a program to illustrate the use of functions."
   ]
  },
  {
   "cell_type": "code",
   "execution_count": 5,
   "metadata": {},
   "outputs": [
    {
     "name": "stdout",
     "output_type": "stream",
     "text": [
      "4 is an even number\n",
      "7 is an odd number\n"
     ]
    }
   ],
   "source": [
    "# function definition\n",
    "def print_even_odd(num):\n",
    "    if num%2 == 0:\n",
    "        print(f\"{num} is an even number\")\n",
    "    else:\n",
    "        print(f\"{num} is an odd number\")\n",
    "\n",
    "# function invocation\n",
    "print_even_odd(4)\n",
    "print_even_odd(7)"
   ]
  },
  {
   "cell_type": "markdown",
   "metadata": {},
   "source": [
    "---\n",
    "(iv) Write a program to access the values in a dictionary."
   ]
  },
  {
   "cell_type": "code",
   "execution_count": 6,
   "metadata": {},
   "outputs": [
    {
     "name": "stdout",
     "output_type": "stream",
     "text": [
      "Kinjal\n",
      "23\n",
      "Male\n",
      "24\n"
     ]
    }
   ],
   "source": [
    "# dictionary\n",
    "info_dict = {\"name\": \"Kinjal\", \"age\": 23, \"gender\": \"Male\"}\n",
    "\n",
    "# accessing\n",
    "print(info_dict[\"name\"])\n",
    "print(info_dict[\"age\"])\n",
    "print(info_dict[\"gender\"])\n",
    "\n",
    "# modifying\n",
    "info_dict[\"age\"] += 1\n",
    "print(info_dict[\"age\"])"
   ]
  },
  {
   "cell_type": "markdown",
   "metadata": {},
   "source": [
    "---\n",
    "(v) Write a program to perform various string operations."
   ]
  },
  {
   "cell_type": "code",
   "execution_count": 8,
   "metadata": {},
   "outputs": [
    {
     "name": "stdout",
     "output_type": "stream",
     "text": [
      "5\n",
      "-1\n",
      "ByeWorld\n"
     ]
    }
   ],
   "source": [
    "s1 = input(\"Input first string: \")\n",
    "s2 = input(\"Input second string: \")\n",
    "\n",
    "# concating\n",
    "s3 = s1 + s2\n",
    "\n",
    "# finding\n",
    "print(s3.find(\"World\"))\n",
    "print(s3.find(\"foo\"))\n",
    "\n",
    "# replace\n",
    "s4 = s3.replace(\"Hello\", \"Bye\")\n",
    "print(s4)"
   ]
  }
 ],
 "metadata": {
  "kernelspec": {
   "display_name": "env",
   "language": "python",
   "name": "python3"
  },
  "language_info": {
   "codemirror_mode": {
    "name": "ipython",
    "version": 3
   },
   "file_extension": ".py",
   "mimetype": "text/x-python",
   "name": "python",
   "nbconvert_exporter": "python",
   "pygments_lexer": "ipython3",
   "version": "3.12.3"
  }
 },
 "nbformat": 4,
 "nbformat_minor": 2
}
