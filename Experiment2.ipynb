{
 "cells": [
  {
   "cell_type": "markdown",
   "metadata": {},
   "source": [
    "# Fundamentals of Machine Learning Lab\n",
    "\n",
    "- M. Tech 1st Year\n",
    "- Name: Kinjal Raykarmakar\n",
    "- Roll No.: 24/IT/19"
   ]
  },
  {
   "cell_type": "markdown",
   "metadata": {},
   "source": [
    "## Experiment 2\n",
    "\n",
    "**OBJECTIVE:** To understand the NumPy functions"
   ]
  },
  {
   "cell_type": "code",
   "execution_count": 10,
   "metadata": {},
   "outputs": [],
   "source": [
    "import numpy as np"
   ]
  },
  {
   "cell_type": "markdown",
   "metadata": {},
   "source": [
    "---\n",
    "(i) 1D array operations"
   ]
  },
  {
   "cell_type": "code",
   "execution_count": 11,
   "metadata": {},
   "outputs": [
    {
     "name": "stdout",
     "output_type": "stream",
     "text": [
      "The dimensions of a are: 1\n",
      "The shape of a is: (6,)\n",
      "The dataype of a is: int64\n"
     ]
    }
   ],
   "source": [
    "# creating a 1D array\n",
    "a = np.array([1,2,3,4,5,6])\n",
    "\n",
    "# dimension\n",
    "print(\"The dimensions of a are:\", a.ndim)\n",
    "\n",
    "# shape\n",
    "print(\"The shape of a is:\", a.shape)\n",
    "\n",
    "# datatype\n",
    "print(\"The dataype of a is:\", a.dtype)"
   ]
  },
  {
   "cell_type": "markdown",
   "metadata": {},
   "source": [
    "---\n",
    "(ii) 2D array operations"
   ]
  },
  {
   "cell_type": "code",
   "execution_count": 12,
   "metadata": {},
   "outputs": [
    {
     "name": "stdout",
     "output_type": "stream",
     "text": [
      "[[1 2 3]\n",
      " [4 5 6]]\n",
      "[[1 2]\n",
      " [3 4]\n",
      " [5 6]]\n",
      "Dimension of b is: 2\n",
      "Shape of b is: (2, 3)\n"
     ]
    }
   ],
   "source": [
    "# creating a 2D array\n",
    "b = np.array([[1,2,3], [4,5,6]])\n",
    "print(b)\n",
    "\n",
    "# reshape existing 1D array to 2D\n",
    "bb = b.reshape((3,2))\n",
    "print(bb)\n",
    "\n",
    "# dimension and shape\n",
    "print(\"Dimension of b is:\", b.ndim)\n",
    "print(\"Shape of b is:\", b.shape)"
   ]
  },
  {
   "cell_type": "markdown",
   "metadata": {},
   "source": [
    "---\n",
    "(iii) Operations on NumPy arrays"
   ]
  },
  {
   "cell_type": "code",
   "execution_count": 13,
   "metadata": {},
   "outputs": [
    {
     "name": "stdout",
     "output_type": "stream",
     "text": [
      "[1 2 3 4 5 6]\n",
      "[ 3  6  9 12 15 18]\n",
      "-------------------------\n",
      "[1 2 3 4 5 6]\n",
      "[ 1  4  9 16 25 36]\n",
      "-------------------------\n",
      "[1, 2, 3, 1, 2, 3]\n",
      "-------------------------\n",
      "[1 2 3 4 5 6]\n",
      "[10  2  3  4  5  6]\n",
      "[[1 2]\n",
      " [3 4]\n",
      " [5 6]]\n"
     ]
    }
   ],
   "source": [
    "# element wise multiplication\n",
    "print(a)\n",
    "print(a*3)\n",
    "\n",
    "# element wise square\n",
    "print(\"-------------------------\")\n",
    "print(a)\n",
    "print(a**2)\n",
    "\n",
    "# not an element wise multiplication\n",
    "# just creates duplicate copies\n",
    "print(\"-------------------------\")\n",
    "print([1,2,3]*2)\n",
    "\n",
    "# modifying element through direct access\n",
    "print(\"-------------------------\")\n",
    "print(a)\n",
    "a[0] = 10\n",
    "print(a)\n",
    "print(bb)"
   ]
  },
  {
   "cell_type": "markdown",
   "metadata": {},
   "source": [
    "---\n",
    "(iv) Create a numpy array copy"
   ]
  },
  {
   "cell_type": "code",
   "execution_count": 14,
   "metadata": {},
   "outputs": [
    {
     "name": "stdout",
     "output_type": "stream",
     "text": [
      "[[10  2]\n",
      " [ 3  4]\n",
      " [ 5  6]]\n",
      "[[99  2]\n",
      " [ 3  4]\n",
      " [ 5  6]]\n",
      "[10  2  3  4  5  6]\n"
     ]
    }
   ],
   "source": [
    "c = a.reshape(3,2).copy()\n",
    "print(c)\n",
    "\n",
    "# does not change a as it's a copy\n",
    "c[0][0] = 99\n",
    "\n",
    "print(c)\n",
    "print(a)"
   ]
  },
  {
   "cell_type": "markdown",
   "metadata": {},
   "source": [
    "---\n",
    "(v) Indexing in NumPy Arrays"
   ]
  },
  {
   "cell_type": "code",
   "execution_count": 15,
   "metadata": {},
   "outputs": [
    {
     "name": "stdout",
     "output_type": "stream",
     "text": [
      "10\n",
      "[2 3]\n",
      "Even elements in a are: [10  2  4  6]\n",
      "[12  2  3  4  5  6]\n"
     ]
    }
   ],
   "source": [
    "# printing a specific element\n",
    "print(a[0])\n",
    "\n",
    "# printing multiple elements in index 1 and 2\n",
    "print(a[np.array([1,2])])\n",
    "\n",
    "# printing elements in the array based on the passed condition\n",
    "# here, even numbers are being printed\n",
    "print(\"Even elements in a are:\", a[a%2==0])\n",
    "\n",
    "# assinging values to elements based on condition\n",
    "a[a==10] = 12\n",
    "print(a)"
   ]
  },
  {
   "cell_type": "markdown",
   "metadata": {},
   "source": [
    "---\n",
    "(vi) Clipping"
   ]
  },
  {
   "cell_type": "code",
   "execution_count": 16,
   "metadata": {},
   "outputs": [
    {
     "name": "stdout",
     "output_type": "stream",
     "text": [
      "[12  2  3  4  5  6]\n",
      "[5 3 3 4 5 5]\n"
     ]
    }
   ],
   "source": [
    "# clipping allows us to modify the numpy array values that lie outside the range\n",
    "# if the range is [3,5], then values lesser than 3 are made 3 and values greater than 5 are made 5\n",
    "d = a.copy()\n",
    "print(d)\n",
    "print(d.clip(3,5))"
   ]
  }
 ],
 "metadata": {
  "kernelspec": {
   "display_name": "env",
   "language": "python",
   "name": "python3"
  },
  "language_info": {
   "codemirror_mode": {
    "name": "ipython",
    "version": 3
   },
   "file_extension": ".py",
   "mimetype": "text/x-python",
   "name": "python",
   "nbconvert_exporter": "python",
   "pygments_lexer": "ipython3",
   "version": "3.12.3"
  }
 },
 "nbformat": 4,
 "nbformat_minor": 2
}
