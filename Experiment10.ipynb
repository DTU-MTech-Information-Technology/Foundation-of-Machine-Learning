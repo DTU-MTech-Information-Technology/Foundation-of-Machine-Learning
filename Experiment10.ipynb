{
 "cells": [
  {
   "cell_type": "code",
   "execution_count": 20,
   "metadata": {},
   "outputs": [],
   "source": [
    "import numpy as np"
   ]
  },
  {
   "cell_type": "code",
   "execution_count": null,
   "metadata": {},
   "outputs": [],
   "source": [
    "# input\n",
    "X = np.array([\n",
    "    [1, 0, 1, 0],\n",
    "    [1, 0, 1, 1],\n",
    "    [0, 1, 0, 1]\n",
    "])"
   ]
  },
  {
   "cell_type": "code",
   "execution_count": null,
   "metadata": {},
   "outputs": [],
   "source": [
    "# output\n",
    "Y = np.array([\n",
    "    [1],\n",
    "    [1],\n",
    "    [0]\n",
    "])"
   ]
  },
  {
   "cell_type": "code",
   "execution_count": 23,
   "metadata": {},
   "outputs": [],
   "source": [
    "def sigmoid(x):\n",
    "    return 1 / (1 + np.exp(-x))"
   ]
  },
  {
   "cell_type": "code",
   "execution_count": 24,
   "metadata": {},
   "outputs": [],
   "source": [
    "def derivative_sigmoid(x):\n",
    "    return x * (1 - x)"
   ]
  },
  {
   "cell_type": "code",
   "execution_count": 25,
   "metadata": {},
   "outputs": [],
   "source": [
    "epoch = 5000 # training iterations\n",
    "lr = 0.1 # learning rate\n",
    "input_layer_neurons = X.shape[1] # no. of features in dataset\n",
    "hidden_layer_neurons = 3 # no. of hidden layer neurons\n",
    "output_neurons = 1 # no. of output layer neurons"
   ]
  },
  {
   "cell_type": "code",
   "execution_count": 26,
   "metadata": {},
   "outputs": [],
   "source": [
    "wh = np.random.uniform(size=(input_layer_neurons, hidden_layer_neurons))\n",
    "bh = np.random.uniform(size=(1, hidden_layer_neurons))\n",
    "wout = np.random.uniform(size=(hidden_layer_neurons, output_neurons))\n",
    "bout = np.random.uniform(size=(1, output_neurons))"
   ]
  },
  {
   "cell_type": "code",
   "execution_count": 27,
   "metadata": {},
   "outputs": [],
   "source": [
    "for i in range(epoch):\n",
    "    ### forward propagations ###\n",
    "\n",
    "    # hidden layer input\n",
    "    hidden_layer_input_1 = np.dot(X, wh)\n",
    "    hidden_layer_input = hidden_layer_input_1 + bh\n",
    "\n",
    "    # non-linear transformation on hidden layer input\n",
    "    hidden_layer_activations = sigmoid(hidden_layer_input)\n",
    "    \n",
    "    # output layer input\n",
    "    output_layer_input_1 = np.dot(hidden_layer_activations, wout)\n",
    "    output_layer_input = output_layer_input_1 + bout\n",
    "\n",
    "    # non-linear transformation of hidden layer activation at output layer\n",
    "    output = sigmoid(output_layer_input)\n",
    "\n",
    "    ### backpropagation ###\n",
    "\n",
    "    # gradient of error at output layer\n",
    "    E = Y - output\n",
    "\n",
    "    # sslope at output and hidden layer\n",
    "    slope_output_layer = derivative_sigmoid(output)\n",
    "    slope_hidden_layer = derivative_sigmoid(hidden_layer_activations)\n",
    "\n",
    "    # delta at output layer\n",
    "    d_output = E * slope_output_layer\n",
    "\n",
    "    # error at hidden layer\n",
    "    error_at_hidden_layer = d_output.dot(wout.T)\n",
    "\n",
    "    # delta at hidden layer\n",
    "    d_hidden_layer = error_at_hidden_layer * slope_hidden_layer\n",
    "\n",
    "    # update weights at both output and hidden layer\n",
    "    wout += hidden_layer_activations.T.dot(d_output) * lr\n",
    "    bout += np.sum(d_output, axis=0, keepdims=True) * lr\n",
    "    wh += X.T.dot(d_hidden_layer) * lr\n",
    "    bh += np.sum(d_hidden_layer, axis=0, keepdims=True) * lr"
   ]
  },
  {
   "cell_type": "code",
   "execution_count": 28,
   "metadata": {},
   "outputs": [
    {
     "name": "stdout",
     "output_type": "stream",
     "text": [
      "Predicted values are:\n",
      "[[0.98049093]\n",
      " [0.97378832]\n",
      " [0.03516676]]\n"
     ]
    }
   ],
   "source": [
    "print(\"Predicted values are:\")\n",
    "print(output)"
   ]
  }
 ],
 "metadata": {
  "kernelspec": {
   "display_name": "env",
   "language": "python",
   "name": "python3"
  },
  "language_info": {
   "codemirror_mode": {
    "name": "ipython",
    "version": 3
   },
   "file_extension": ".py",
   "mimetype": "text/x-python",
   "name": "python",
   "nbconvert_exporter": "python",
   "pygments_lexer": "ipython3",
   "version": "3.12.3"
  }
 },
 "nbformat": 4,
 "nbformat_minor": 2
}
